{
 "cells": [
  {
   "cell_type": "markdown",
   "metadata": {},
   "source": [
    "Реализация SBF (стандратного фильтра Блума) и VBF."
   ]
  },
  {
   "cell_type": "markdown",
   "metadata": {},
   "source": [
    "Для начала реализуем SBF:"
   ]
  },
  {
   "cell_type": "code",
   "execution_count": 43,
   "metadata": {},
   "outputs": [],
   "source": [
    "import zlib\n",
    "\n",
    "class SBF():\n",
    "    def __init__(self, size, hash_func=None):\n",
    "        self.size = size\n",
    "        self.bit_array = [0] * size\n",
    "        self.hash_func = [zlib.crc32]\n",
    "\n",
    "    def add(self, item):\n",
    "        for hash_f in self.hash_func:\n",
    "            ind = hash_f(item.encode()) % self.size\n",
    "            self.bit_array[ind] = 1\n",
    "\n",
    "    def check(self, item):\n",
    "        for hash_f in self.hash_func:\n",
    "            ind = hash_f(item.encode()) % self.size\n",
    "            if self.bit_array[ind] == 0:\n",
    "                return False\n",
    "            return True\n"
   ]
  },
  {
   "cell_type": "markdown",
   "metadata": {},
   "source": [
    "Тут была использованна только хэш-функция crc32, но мы можем увеличить количетсво хэш-функций для минимизации ложно-положительных результатов"
   ]
  },
  {
   "cell_type": "code",
   "execution_count": 74,
   "metadata": {},
   "outputs": [],
   "source": [
    "import zlib\n",
    "\n",
    "def some_another_hash(x):\n",
    "    s = 0\n",
    "    for i in x:\n",
    "        s += int(i)\n",
    "    return s\n",
    "\n",
    "def some_another_hash2(x):\n",
    "    s = 0\n",
    "    for i in x:\n",
    "        s += int(i) ** 2\n",
    "    return s\n",
    "\n",
    "class SBF():\n",
    "    def __init__(self, size, hash_func=None):\n",
    "        self.size = size\n",
    "        self.bit_array = [0] * size\n",
    "        self.hash_func = [zlib.crc32, some_another_hash,some_another_hash2]\n",
    "\n",
    "    def add(self, item):\n",
    "        for hash_f in self.hash_func:\n",
    "            ind = hash_f(item.encode()) % self.size\n",
    "            self.bit_array[ind] = 1\n",
    "\n",
    "\n",
    "    def check(self, item):\n",
    "        for hash_f in self.hash_func:\n",
    "            ind = hash_f(item.encode()) % self.size\n",
    "            if self.bit_array[ind] == 0:\n",
    "                return False\n",
    "        return True"
   ]
  },
  {
   "cell_type": "markdown",
   "metadata": {},
   "source": [
    "Но можно поступить проще и обойтись лишь одной хэш-функцией: будет добавлять i к хэш-функции"
   ]
  },
  {
   "cell_type": "markdown",
   "metadata": {},
   "source": [
    "Хоть функции удаления нет в SBF, добавим ее. Это нужно для сранения с VBF"
   ]
  },
  {
   "cell_type": "code",
   "execution_count": 310,
   "metadata": {},
   "outputs": [],
   "source": [
    "import zlib\n",
    "\n",
    "class SBF():\n",
    "    def __init__(self, size, count_hash_func=1):\n",
    "        self.size = size\n",
    "        self.bit_array = [0] * size\n",
    "        self.num_hash_func = count_hash_func\n",
    "    \n",
    "    def hash_func(self, item, number):\n",
    "        return zlib.crc32((item+str(number)).encode())\n",
    "\n",
    "    def add(self, item):\n",
    "        for ind_hash in range(self.num_hash_func):\n",
    "            ind = self.hash_func(item, ind_hash) % self.size\n",
    "            self.bit_array[ind] = 1\n",
    "\n",
    "    def delete(self, item):\n",
    "        for ind_hash in range(self.num_hash_func):\n",
    "            ind = self.hash_func(item, ind_hash) % self.size\n",
    "            self.bit_array[ind] = 0\n",
    "        \n",
    "    def check(self, item):\n",
    "        for ind_hash in range(self.num_hash_func):\n",
    "            ind = self.hash_func(item, ind_hash) % self.size\n",
    "            if self.bit_array[ind] == 0:\n",
    "                return False\n",
    "        return True"
   ]
  },
  {
   "cell_type": "markdown",
   "metadata": {},
   "source": [
    "Теперь можно проверить работу: \\\n",
    "для наглядности возьмем пример проверки нахождения ip-адреса в черном списке"
   ]
  },
  {
   "cell_type": "code",
   "execution_count": 311,
   "metadata": {},
   "outputs": [
    {
     "name": "stdout",
     "output_type": "stream",
     "text": [
      "Found: 123.423.53.12\n"
     ]
    }
   ],
   "source": [
    "bf = SBF(100, 5)\n",
    "\n",
    "ban_ip = \"123.423.53.12\"\n",
    "\n",
    "bf.add(ban_ip)\n",
    "\n",
    "for i in range(100):\n",
    "    if bf.check(f'123.423.53.{i}'):\n",
    "        print(f'Found: ' f'123.423.53.{i}')\n"
   ]
  },
  {
   "cell_type": "markdown",
   "metadata": {},
   "source": [
    "Теперь реализуем VBF"
   ]
  },
  {
   "cell_type": "code",
   "execution_count": 312,
   "metadata": {},
   "outputs": [],
   "source": [
    "class VBF():\n",
    "    def __init__(self, size: int, count_hash_func: int, d: int, t: int, q: int):\n",
    "        self.size = size\n",
    "        self.bit_array = [0] * size\n",
    "        self.num_hash_func = count_hash_func\n",
    "        self.d = d\n",
    "        self.t = t\n",
    "        self.q = q\n",
    "\n",
    "    def hash_func(self, item, number):\n",
    "        return zlib.crc32((item+str(number)).encode())\n",
    "\n",
    "    def add(self, item):\n",
    "        for ind_hash in range(self.t):\n",
    "            ind = self.hash_func(item, ind_hash) % self.size\n",
    "            self.bit_array[ind] = 1\n",
    "\n",
    "    def check(self, item):\n",
    "        matched = 0\n",
    "        \n",
    "        for ind_hash in range(self.num_hash_func):\n",
    "            ind = self.hash_func(item, ind_hash) % self.size\n",
    "            matched += self.bit_array[ind]\n",
    "        \n",
    "        return matched >= self.q\n",
    "\n",
    "    def delete(self, item):\n",
    "        deleted = 0\n",
    "        if self.num_hash_func - self.d == 0:\n",
    "            return\n",
    "\n",
    "        for ind_hash in range(self.num_hash_func):\n",
    "            ind = self.hash_func(item, ind_hash) % self.size\n",
    "            if self.bit_array[ind]:\n",
    "                self.bit_array[ind] = 0\n",
    "                deleted += 1\n",
    "                if deleted >= self.num_hash_func - self.d:\n",
    "                    break\n",
    "    "
   ]
  },
  {
   "cell_type": "markdown",
   "metadata": {},
   "source": [
    "Также проверим работоспособность:"
   ]
  },
  {
   "cell_type": "code",
   "execution_count": 313,
   "metadata": {},
   "outputs": [
    {
     "name": "stdout",
     "output_type": "stream",
     "text": [
      "Found: 123.423.53.12\n"
     ]
    }
   ],
   "source": [
    "bf = VBF(100, 11, 0, 11, 10)\n",
    "\n",
    "ban_ip = \"123.423.53.12\"\n",
    "bf.add(ban_ip)\n",
    "\n",
    "for i in range(100):\n",
    "    if bf.check(f'123.423.53.{i}'):\n",
    "        print(f'Found: ' f'123.423.53.{i}')"
   ]
  },
  {
   "cell_type": "markdown",
   "metadata": {},
   "source": [
    "Теперь попытаемcя воспроизвести числовые данные из статьи"
   ]
  },
  {
   "cell_type": "code",
   "execution_count": 416,
   "metadata": {},
   "outputs": [],
   "source": [
    "import random\n",
    "import string\n",
    "\n",
    "vbf = VBF(10000, 3, 0, 3, 2)\n",
    "sbf = SBF(10000, 3)"
   ]
  },
  {
   "cell_type": "markdown",
   "metadata": {},
   "source": [
    "Сгенерируем случайные данные"
   ]
  },
  {
   "cell_type": "code",
   "execution_count": 410,
   "metadata": {},
   "outputs": [],
   "source": [
    "def make_random_str():\n",
    "    alph = string.ascii_lowercase\n",
    "    s = ''.join(random.choice(alph) for _ in range(20))\n",
    "    return s\n",
    "\n",
    "generate_data = [make_random_str() for _ in range(5000000)]"
   ]
  },
  {
   "cell_type": "markdown",
   "metadata": {},
   "source": [
    "Пусть первые 25000 находятся в фильтре"
   ]
  },
  {
   "cell_type": "code",
   "execution_count": 417,
   "metadata": {},
   "outputs": [],
   "source": [
    "for i in range(25000):\n",
    "    vbf.add(generate_data[i])\n",
    "    sbf.add(generate_data[i])"
   ]
  },
  {
   "cell_type": "markdown",
   "metadata": {},
   "source": [
    "Удалим 10% из фильтра"
   ]
  },
  {
   "cell_type": "code",
   "execution_count": 418,
   "metadata": {},
   "outputs": [],
   "source": [
    "for i in range(2500):\n",
    "    vbf.delete(generate_data[i])\n",
    "    sbf.delete(generate_data[i])"
   ]
  },
  {
   "cell_type": "markdown",
   "metadata": {},
   "source": [
    "Теперь посчитаем FP, FN"
   ]
  },
  {
   "cell_type": "code",
   "execution_count": 419,
   "metadata": {},
   "outputs": [],
   "source": [
    "vbf_F = [0, 0]\n",
    "sbf_F = [0, 0]\n",
    "\n",
    "\n",
    "for i in range(2500):\n",
    "    vbf_F[1] += vbf.check(generate_data[i])\n",
    "    sbf_F[1] += sbf.check(generate_data[i])\n",
    "\n",
    "for i in range(2500, 25000):\n",
    "    vbf_F[0] += not vbf.check(generate_data[i])\n",
    "    sbf_F[0] += not sbf.check(generate_data[i])\n",
    "\n",
    "for i in range(25000, 1600000):\n",
    "    vbf_F[1] += vbf.check(generate_data[i])\n",
    "    sbf_F[1] += sbf.check(generate_data[i])"
   ]
  },
  {
   "cell_type": "code",
   "execution_count": 420,
   "metadata": {},
   "outputs": [
    {
     "name": "stdout",
     "output_type": "stream",
     "text": [
      "FN VBF:12350 \n",
      "FP VBF:717170\n"
     ]
    }
   ],
   "source": [
    "print(f'FN VBF:{vbf_F[0]} \\nFP VBF:{vbf_F[1]}')"
   ]
  },
  {
   "cell_type": "code",
   "execution_count": 421,
   "metadata": {},
   "outputs": [
    {
     "name": "stdout",
     "output_type": "stream",
     "text": [
      "FN SBF:20120 \n",
      "FP SBF:163941\n"
     ]
    }
   ],
   "source": [
    "print(f'FN SBF:{sbf_F[0]} \\nFP SBF:{sbf_F[1]}')"
   ]
  },
  {
   "cell_type": "markdown",
   "metadata": {},
   "source": [
    "Как видно из данных, FN действительно стал ниже при использовании VBF."
   ]
  },
  {
   "cell_type": "markdown",
   "metadata": {},
   "source": [
    "Реализуем счетные SBF и VBF"
   ]
  },
  {
   "cell_type": "code",
   "execution_count": 393,
   "metadata": {},
   "outputs": [],
   "source": [
    "class CSBF():\n",
    "    def __init__(self, size, count_hash_func=1):\n",
    "        self.size = size\n",
    "        self.bit_array = [0] * size\n",
    "        self.num_hash_func = count_hash_func\n",
    "    \n",
    "    def hash_func(self, item, number):\n",
    "        return zlib.crc32((item+str(number)).encode())\n",
    "\n",
    "    def add(self, item):\n",
    "        for ind_hash in range(self.num_hash_func):\n",
    "            ind = self.hash_func(item, ind_hash) % self.size\n",
    "            self.bit_array[ind] += 1\n",
    "\n",
    "    def delete(self, item):\n",
    "        for ind_hash in range(self.num_hash_func):\n",
    "            ind = self.hash_func(item, ind_hash) % self.size\n",
    "            self.bit_array[ind] -= 1\n",
    "        \n",
    "    def check(self, item):\n",
    "        for ind_hash in range(self.num_hash_func):\n",
    "            ind = self.hash_func(item, ind_hash) % self.size\n",
    "            if self.bit_array[ind] <= 0:\n",
    "                return False\n",
    "        return True"
   ]
  },
  {
   "cell_type": "code",
   "execution_count": 394,
   "metadata": {},
   "outputs": [],
   "source": [
    "class CVBF():\n",
    "    def __init__(self, size: int, count_hash_func: int, d: int, t: int, q: int):\n",
    "        self.size = size\n",
    "        self.bit_array = [0] * size\n",
    "        self.num_hash_func = count_hash_func\n",
    "        self.d = d\n",
    "        self.t = t\n",
    "        self.q = q\n",
    "\n",
    "    def hash_func(self, item, number):\n",
    "        return zlib.crc32((item+str(number)).encode())\n",
    "\n",
    "    def add(self, item):\n",
    "        for ind_hash in range(self.t):\n",
    "            ind = self.hash_func(item, ind_hash) % self.size\n",
    "            self.bit_array[ind] += 1\n",
    "\n",
    "    def check(self, item):\n",
    "        matched = 0\n",
    "        \n",
    "        for ind_hash in range(self.num_hash_func):\n",
    "            ind = self.hash_func(item, ind_hash) % self.size\n",
    "            matched += self.bit_array[ind]\n",
    "        \n",
    "        return matched >= self.q\n",
    "\n",
    "    def delete(self, item):\n",
    "        deleted = 0\n",
    "        if self.num_hash_func - self.d == 0:\n",
    "            return\n",
    "\n",
    "        for ind_hash in range(self.num_hash_func):\n",
    "            ind = self.hash_func(item, ind_hash) % self.size\n",
    "            if self.bit_array[ind]:\n",
    "                self.bit_array[ind] -= 1\n",
    "                deleted += 1\n",
    "                if deleted >= self.num_hash_func - self.d:\n",
    "                    break\n",
    "    "
   ]
  }
 ],
 "metadata": {
  "kernelspec": {
   "display_name": "Python 3.11.6 64-bit",
   "language": "python",
   "name": "python3"
  },
  "language_info": {
   "codemirror_mode": {
    "name": "ipython",
    "version": 3
   },
   "file_extension": ".py",
   "mimetype": "text/x-python",
   "name": "python",
   "nbconvert_exporter": "python",
   "pygments_lexer": "ipython3",
   "version": "3.11.6"
  },
  "orig_nbformat": 4,
  "vscode": {
   "interpreter": {
    "hash": "aee8b7b246df8f9039afb4144a1f6fd8d2ca17a180786b69acc140d282b71a49"
   }
  }
 },
 "nbformat": 4,
 "nbformat_minor": 2
}
